{
 "cells": [
  {
   "attachments": {},
   "cell_type": "markdown",
   "id": "beb550f5",
   "metadata": {},
   "source": [
    "# Lab 4\n",
    "\n",
    "[![image](https://colab.research.google.com/assets/colab-badge.svg)](https://colab.research.google.com/github/wnelso18/tight_loops/blob/main/labs/lab4.ipynb)\n",
    "\n",
    "## Submission instructions\n",
    "\n",
    "1. Download the notebook from https://geosdemo.gishub.org/labs/lab4\n",
    "2. Complete the lab questions\n",
    "3. Restart Kernel and Run All Cells\n",
    "4. Upload the notebook to your GitHub repository\n",
    "5. Make sure the notebook has an `Open In Colab` badge. Click on the badge to make sure your notebook can be opened in Colab.\n",
    "6. Submit the link to the notebook on your GitHub repository to Canvas"
   ]
  },
  {
   "cell_type": "code",
   "execution_count": 30,
   "id": "bfc1ddc5",
   "metadata": {},
   "outputs": [
    {
     "name": "stdout",
     "output_type": "stream",
     "text": [
      "Submitted time: 2023-03-08 22:06:07.850332\n"
     ]
    }
   ],
   "source": [
    "from datetime import datetime\n",
    "\n",
    "now = datetime.now()\n",
    "print(f\"Submitted time: {now}\")"
   ]
  },
  {
   "cell_type": "markdown",
   "id": "7e96934a",
   "metadata": {},
   "source": [
    "## Question 1\n",
    "\n",
    "**Personal Message:** Use a variable to represent a person’s name, and print a message to that person. Your message should be simple, such as, “Hello Eric, would you like to learn some Python today?”"
   ]
  },
  {
   "cell_type": "code",
   "execution_count": 31,
   "id": "063a8cb4",
   "metadata": {},
   "outputs": [
    {
     "name": "stdout",
     "output_type": "stream",
     "text": [
      "Hello Robby, would you like to learn some Python today?\n"
     ]
    }
   ],
   "source": [
    "person =  'Robby'\n",
    "print(f\"Hello {person}, would you like to learn some Python today?\")"
   ]
  },
  {
   "cell_type": "markdown",
   "id": "83c4c9e9",
   "metadata": {},
   "source": [
    "## Question 2\n",
    "\n",
    "**Name Cases:** Use a variable to represent a person’s name, and then print that person’s name in lowercase, uppercase, and title case."
   ]
  },
  {
   "cell_type": "code",
   "execution_count": 32,
   "id": "35cfbbec",
   "metadata": {},
   "outputs": [
    {
     "name": "stdout",
     "output_type": "stream",
     "text": [
      "ROBBY\n",
      "robby\n",
      "Robby\n"
     ]
    }
   ],
   "source": [
    "print(person.upper())\n",
    "print(person.lower())\n",
    "print(person.title())"
   ]
  },
  {
   "cell_type": "markdown",
   "id": "8c8e92e4",
   "metadata": {},
   "source": [
    "## Question 3\n",
    "\n",
    "**Famous Quote:** Find a quote from a famous person you admire. Print the quote and the name of its author. Your output should look something like the following, including the quotation marks:\n",
    "\n",
    "```\n",
    "Albert Einstein once said, “A person who never made a mistake never tried anything new.”\n",
    "```"
   ]
  },
  {
   "cell_type": "code",
   "execution_count": 33,
   "id": "3bed6cb5",
   "metadata": {},
   "outputs": [
    {
     "name": "stdout",
     "output_type": "stream",
     "text": [
      "John Denver once said, “Relax, ease back in your seats and let the music take you wherever it does.”\n"
     ]
    }
   ],
   "source": [
    "person = \"john denver\"\n",
    "message = f'{person.title()} once said, “Relax, ease back in your seats and let the music take you wherever it does.”'\n",
    "print(message)"
   ]
  },
  {
   "cell_type": "markdown",
   "id": "4b46d366",
   "metadata": {},
   "source": [
    "## Question 4\n",
    "\n",
    "**Stripping Names:** Use a variable to represent a person’s name, and include some whitespace characters at the beginning and end of the name. Make sure you use each character combination, \"\\t\" and \"\\n\", at least once.\n",
    "Print the name once, so the whitespace around the name is displayed. Then print the name using each of the three stripping functions, lstrip(), rstrip(), and strip()."
   ]
  },
  {
   "cell_type": "code",
   "execution_count": 34,
   "id": "bb5dbb0f",
   "metadata": {},
   "outputs": [
    {
     "name": "stdout",
     "output_type": "stream",
     "text": [
      "\tJohn  Denver once said, \n",
      " “Relax, ease back in your seats and let the music take you wherever it does.”\n"
     ]
    }
   ],
   "source": [
    "person = \" john  denver \"\n",
    "print(f'\\t{person.lstrip().rstrip().strip().title()} once said, \\n “Relax, ease back in your seats and let the music take you wherever it does.”')"
   ]
  },
  {
   "cell_type": "markdown",
   "id": "32cce0d9",
   "metadata": {},
   "source": [
    "## Question 5\n",
    "\n",
    "**Names:** Store the names of a few of your friends in a list called names. Print\n",
    "each person’s name by accessing each element in the list, one at a time."
   ]
  },
  {
   "cell_type": "code",
   "execution_count": 35,
   "id": "13da6459",
   "metadata": {},
   "outputs": [
    {
     "name": "stdout",
     "output_type": "stream",
     "text": [
      "John\n",
      "Jane\n",
      "Jim\n",
      "Joe\n"
     ]
    }
   ],
   "source": [
    "names = ['john', 'jane', 'jim', 'joe']\n",
    "print(names[0].title())\n",
    "print(names[1].title())\n",
    "print(names[2].title())\n",
    "print(names[3].title())"
   ]
  },
  {
   "cell_type": "markdown",
   "id": "aaaa5c8f",
   "metadata": {},
   "source": [
    "## Question 6\n",
    "\n",
    "**Your Own List:** Think of your favorite mode of transportation, such as a motorcycle or a car, and make a list that stores several examples. Use your list to print a series of statements about these items, such as “I would like to own a Honda motorcycle.”"
   ]
  },
  {
   "cell_type": "code",
   "execution_count": 36,
   "id": "eba0829e",
   "metadata": {},
   "outputs": [
    {
     "name": "stdout",
     "output_type": "stream",
     "text": [
      "I would like to own a Ford truck.\n",
      "I would like to own a Chevy truck.\n",
      "I would like to own a Dodge truck.\n",
      "I would like to own a Toyota truck.\n"
     ]
    }
   ],
   "source": [
    "drive = ['ford', 'chevy', 'dodge', 'toyota']\n",
    "print(f'I would like to own a {drive[0].title()} truck.')\n",
    "print(f'I would like to own a {drive[1].title()} truck.')\n",
    "print(f'I would like to own a {drive[2].title()} truck.')\n",
    "print(f'I would like to own a {drive[3].title()} truck.')"
   ]
  },
  {
   "cell_type": "markdown",
   "id": "e4b4452f",
   "metadata": {},
   "source": [
    "## Question 7\n",
    "\n",
    "**Pizzas:** Think of at least three kinds of your favorite pizza. Store these pizza names in a list, and then use a for loop to print the name of each pizza.\n",
    "\n",
    "Modify your for loop to print a sentence using the name of the pizza instead of printing just the name of the pizza. For each pizza you should have one line of output containing a simple statement like _I like pepperoni pizza._"
   ]
  },
  {
   "cell_type": "code",
   "execution_count": 37,
   "id": "37cdb68e",
   "metadata": {},
   "outputs": [
    {
     "name": "stdout",
     "output_type": "stream",
     "text": [
      "I like pepperoni pizza.\n",
      "I like sausage pizza.\n",
      "I like cheese pizza.\n",
      "I like pineapple pizza.\n"
     ]
    }
   ],
   "source": [
    "pizza = ['pepperoni', 'sausage', 'cheese', 'pineapple']\n",
    "for pizza in pizza:\n",
    "    print(f'I like {pizza} pizza.')"
   ]
  },
  {
   "cell_type": "markdown",
   "id": "b3b70e8e",
   "metadata": {},
   "source": [
    "Add a line at the end of your program, outside the for loop, that states how much you like pizza. The output should consist of three or more lines about the kinds of pizza you like and then an additional sentence, such as _I really love pizza!_"
   ]
  },
  {
   "cell_type": "code",
   "execution_count": 38,
   "id": "11b4528c",
   "metadata": {},
   "outputs": [
    {
     "name": "stdout",
     "output_type": "stream",
     "text": [
      "I like pepperoni pizza.\n",
      "I like sausage pizza.\n",
      "I like cheese pizza.\n",
      "I like pineapple pizza.\n",
      "I really love pizza!\n"
     ]
    }
   ],
   "source": [
    "pizza = ['pepperoni', 'sausage', 'cheese', 'pineapple']\n",
    "for pizza in pizza:\n",
    "    print(f'I like {pizza} pizza.')\n",
    "print('I really love pizza!')"
   ]
  },
  {
   "cell_type": "markdown",
   "id": "6e42f992",
   "metadata": {},
   "source": [
    "## Question 8\n",
    "\n",
    "**Animals:** Think of at least three different animals that have a common characteristic. Store the names of these animals in a list, and then use a for loop to print out the name of each animal.\n",
    "\n",
    "Modify your program to print a statement about each animal, such as _A dog would make a great pet._"
   ]
  },
  {
   "cell_type": "code",
   "execution_count": 39,
   "id": "7489fb55",
   "metadata": {},
   "outputs": [
    {
     "name": "stdout",
     "output_type": "stream",
     "text": [
      "A dog would make a great pet.\n",
      "A cat would make a great pet.\n",
      "A bird would make a great pet.\n",
      "A fish would make a great pet.\n"
     ]
    }
   ],
   "source": [
    "animals = ['dog', 'cat', 'bird', 'fish']\n",
    "for animal in animals:\n",
    "    print(f'A {animal} would make a great pet.')"
   ]
  },
  {
   "cell_type": "markdown",
   "id": "b4484392",
   "metadata": {},
   "source": [
    "Add a line at the end of your program stating what these animals have in common. You could print a sentence such as _Any of these animals would make a great pet!_"
   ]
  },
  {
   "cell_type": "code",
   "execution_count": 40,
   "id": "eb9f8e19",
   "metadata": {},
   "outputs": [
    {
     "name": "stdout",
     "output_type": "stream",
     "text": [
      "A dog would make a great pet.\n",
      "A cat would make a great pet.\n",
      "A bird would make a great pet.\n",
      "A fish would make a great pet.\n",
      "Any of these animals would make a great pet!\n"
     ]
    }
   ],
   "source": [
    "animals = ['dog', 'cat', 'bird', 'fish']\n",
    "for animal in animals:\n",
    "    print(f'A {animal} would make a great pet.')\n",
    "print('Any of these animals would make a great pet!')"
   ]
  },
  {
   "cell_type": "markdown",
   "id": "ba99ccb5",
   "metadata": {},
   "source": [
    "## Question 9\n",
    "\n",
    "**Summing a Hundred:** Make a list of the numbers from one to one hundred, and then use `min()` and `max()` to make sure your list actually starts at one and ends at one hundred. Also, use the sum() function to see how quickly Python can add a hundred numbers."
   ]
  },
  {
   "cell_type": "code",
   "execution_count": 41,
   "id": "6c6a27a9",
   "metadata": {},
   "outputs": [
    {
     "name": "stdout",
     "output_type": "stream",
     "text": [
      "[1, 2, 3, 4, 5, 6, 7, 8, 9, 10, 11, 12, 13, 14, 15, 16, 17, 18, 19, 20, 21, 22, 23, 24, 25, 26, 27, 28, 29, 30, 31, 32, 33, 34, 35, 36, 37, 38, 39, 40, 41, 42, 43, 44, 45, 46, 47, 48, 49, 50, 51, 52, 53, 54, 55, 56, 57, 58, 59, 60, 61, 62, 63, 64, 65, 66, 67, 68, 69, 70, 71, 72, 73, 74, 75, 76, 77, 78, 79, 80, 81, 82, 83, 84, 85, 86, 87, 88, 89, 90, 91, 92, 93, 94, 95, 96, 97, 98, 99, 100]\n",
      "1\n",
      "100\n",
      "5050\n"
     ]
    }
   ],
   "source": [
    "\n",
    "values = list(range(1,101))\n",
    "print(values)\n",
    "print(min(values))\n",
    "print(max(values))\n",
    "print(sum(values))\n"
   ]
  },
  {
   "cell_type": "markdown",
   "id": "d165cd3c",
   "metadata": {},
   "source": [
    "## Question 10\n",
    "\n",
    "**Odd Numbers:** Use the third argument of the `range()` function to make a list of the odd numbers from 1 to 20. Use a `for` loop to print each number."
   ]
  },
  {
   "cell_type": "code",
   "execution_count": 42,
   "id": "d276920a",
   "metadata": {},
   "outputs": [
    {
     "name": "stdout",
     "output_type": "stream",
     "text": [
      "1\n",
      "3\n",
      "5\n",
      "7\n",
      "9\n",
      "11\n",
      "13\n",
      "15\n",
      "17\n",
      "19\n"
     ]
    }
   ],
   "source": [
    "numbers = list(range(1,21,2))\n",
    "for number in numbers:\n",
    "    print(number)"
   ]
  },
  {
   "cell_type": "markdown",
   "id": "9e49d9eb",
   "metadata": {},
   "source": [
    "## Question 11\n",
    "\n",
    "**Threes:** Make a list of the multiples of 3 from 3 to 30. Use a `for` loop to print the numbers in your list."
   ]
  },
  {
   "cell_type": "code",
   "execution_count": 43,
   "id": "4ff24fc6",
   "metadata": {},
   "outputs": [
    {
     "name": "stdout",
     "output_type": "stream",
     "text": [
      "[9, 12, 15, 18, 21, 24, 27, 30, 33, 36, 39, 42, 45, 48, 51, 54, 57, 60, 63, 66, 69, 72, 75, 78, 81, 84, 87, 90]\n"
     ]
    }
   ],
   "source": [
    "multiples = []\n",
    "for value in range(3,31):\n",
    "    multiple = value * 3\n",
    "    multiples.append(multiple)\n",
    "print(multiples)\n"
   ]
  },
  {
   "cell_type": "markdown",
   "id": "dbcce457",
   "metadata": {},
   "source": [
    "## Question 12\n",
    "\n",
    "**Cube Comprehension:** Use a list comprehension to generate a list of the first 10 cubes."
   ]
  },
  {
   "cell_type": "code",
   "execution_count": 44,
   "id": "df0901f8",
   "metadata": {},
   "outputs": [
    {
     "name": "stdout",
     "output_type": "stream",
     "text": [
      "[1, 8, 27, 64, 125, 216, 343, 512, 729, 1000]\n"
     ]
    }
   ],
   "source": [
    "list_ = []\n",
    "for value in range(1,11):\n",
    "    list_.append(value**3)\n",
    "print(list_)"
   ]
  },
  {
   "cell_type": "markdown",
   "id": "c6946e7b",
   "metadata": {},
   "source": [
    "## Question 13\n",
    "\n",
    "**Slices:** Using one of the programs you wrote in this lab, add several lines to the end of the program that do the following:\n",
    "\n",
    "Print the message _The first three items in the list are:_. Then use a slice to print the first three items from that program’s list."
   ]
  },
  {
   "cell_type": "code",
   "execution_count": 45,
   "id": "0e03e488",
   "metadata": {},
   "outputs": [
    {
     "name": "stdout",
     "output_type": "stream",
     "text": [
      "A dog would make a great pet.\n",
      "A cat would make a great pet.\n",
      "A bird would make a great pet.\n",
      "A fish would make a great pet.\n",
      "Any of these animals would make a great pet!\n",
      "The first three items in the list are:\n",
      "Dog\n",
      "Cat\n",
      "Bird\n"
     ]
    }
   ],
   "source": [
    "animals = ['dog', 'cat', 'bird', 'fish']\n",
    "for animal in animals:\n",
    "    print(f'A {animal} would make a great pet.')\n",
    "print('Any of these animals would make a great pet!')\n",
    "\n",
    "print('The first three items in the list are:')\n",
    "for animal in animals[:3]:\n",
    "    print(animal.title())\n",
    "    "
   ]
  },
  {
   "cell_type": "markdown",
   "id": "6f88722c",
   "metadata": {},
   "source": [
    "Print the message _Three items from the middle of the list are:_. Use a slice to print three items from the middle of the list."
   ]
  },
  {
   "cell_type": "code",
   "execution_count": 46,
   "id": "6859a061",
   "metadata": {},
   "outputs": [
    {
     "name": "stdout",
     "output_type": "stream",
     "text": [
      "Three items from the middle of the list are:\n",
      "Cat\n",
      "Bird\n",
      "Fish\n"
     ]
    }
   ],
   "source": [
    "print('Three items from the middle of the list are:')\n",
    "for animal in animals[1:4]:\n",
    "    print(animal.title())"
   ]
  },
  {
   "cell_type": "markdown",
   "id": "0abc8cec",
   "metadata": {},
   "source": [
    "Print the message _The last three items in the list are:_. Use a slice to print the last three items in the list."
   ]
  },
  {
   "cell_type": "code",
   "execution_count": 47,
   "id": "64988cac",
   "metadata": {},
   "outputs": [
    {
     "name": "stdout",
     "output_type": "stream",
     "text": [
      "The last three items in the list are:\n",
      "Cat\n",
      "Bird\n",
      "Fish\n"
     ]
    }
   ],
   "source": [
    "print('The last three items in the list are:')\n",
    "for animal in animals[-3:]:\n",
    "    print(animal.title())"
   ]
  },
  {
   "cell_type": "markdown",
   "id": "36876b9d",
   "metadata": {},
   "source": [
    "## Question 14\n",
    "\n",
    "**Buffet:** A buffet-style restaurant offers only five basic foods. Think of five simple foods, and store them in a tuple.\n",
    "\n",
    "Use a for loop to print each food the restaurant offers."
   ]
  },
  {
   "cell_type": "code",
   "execution_count": 48,
   "id": "6f186d8a",
   "metadata": {},
   "outputs": [
    {
     "name": "stdout",
     "output_type": "stream",
     "text": [
      "pizza\n",
      "tacos\n",
      "burgers\n",
      "chicken\n",
      "steak\n"
     ]
    }
   ],
   "source": [
    "foods = ('pizza', 'tacos', 'burgers', 'chicken', 'steak')\n",
    "for food in foods:\n",
    "    print(food)"
   ]
  },
  {
   "cell_type": "markdown",
   "id": "0a6ba7f3",
   "metadata": {},
   "source": [
    "The restaurant changes its menu, replacing two of the items with different foods. Add a line that rewrites the tuple, and then use a for loop to print each of the items on the revised menu."
   ]
  },
  {
   "cell_type": "code",
   "execution_count": 49,
   "id": "79b11cbc",
   "metadata": {},
   "outputs": [
    {
     "name": "stdout",
     "output_type": "stream",
     "text": [
      "pasta\n",
      "salad\n",
      "burgers\n",
      "chicken\n",
      "steak\n"
     ]
    }
   ],
   "source": [
    "foods = ('pizza', 'tacos', 'burgers', 'chicken', 'steak')\n",
    "new_foods = list(foods)\n",
    "new_foods[0] = 'pasta'\n",
    "new_foods[1] = 'salad'\n",
    "foods = tuple(new_foods)\n",
    "\n",
    "for foo in foods:\n",
    "    print(foo)\n"
   ]
  },
  {
   "cell_type": "markdown",
   "id": "337ac27d",
   "metadata": {},
   "source": [
    "## Question 15\n",
    "\n",
    "**Alien Colors:** Imagine an alien was just shot down in a game. Create a variable called `alien_color` and assign it a value of `green, yellow,` or `red`.\n",
    "\n",
    "-   Write an if statement to test whether the alien’s color is green. If it is, print a message that the player just earned 5 points.\n",
    "-   Write one version of this program that passes the if test and another that fails. (The version that fails will have no output.)"
   ]
  },
  {
   "cell_type": "code",
   "execution_count": 50,
   "id": "cc3198fa",
   "metadata": {},
   "outputs": [
    {
     "name": "stdout",
     "output_type": "stream",
     "text": [
      "You just earned 5 points!\n"
     ]
    }
   ],
   "source": [
    "alien_color = 'green'\n",
    "if alien_color == 'green':\n",
    "    print('You just earned 5 points!')\n",
    "\n",
    "alien_color = 'red'\n",
    "if alien_color == 'green':\n",
    "    print('You just earned 5 points!')\n"
   ]
  },
  {
   "cell_type": "markdown",
   "id": "57465bab",
   "metadata": {},
   "source": [
    "## Question 16\n",
    "\n",
    "**Stages of Life:** Write an `if-elif-else` chain that determines a person’s stage of life. Set a value for the variable `age`, and then:\n",
    "\n",
    "-   If the person is less than 2 years old, print a message that the person is a baby.\n",
    "-   If the person is at least 2 years old but less than 4, print a message that the person is a toddler.\n",
    "-   If the person is at least 4 years old but less than 13, print a message that the person is a kid.\n",
    "-   If the person is at least 13 years old but less than 20, print a message that the person is a teenager.\n",
    "-   If the person is at least 20 years old but less than 65, print a message that the person is an adult."
   ]
  },
  {
   "cell_type": "code",
   "execution_count": 51,
   "id": "b09c364a",
   "metadata": {},
   "outputs": [
    {
     "name": "stdout",
     "output_type": "stream",
     "text": [
      "You are a teenager.\n"
     ]
    }
   ],
   "source": [
    "age = 18\n",
    "if age < 2:\n",
    "    print('You are a baby.')\n",
    "elif age >= 2 and age < 4:\n",
    "    print('You are a toddler.')\n",
    "elif age >= 4 and age < 13:\n",
    "    print('You are a kid.')\n",
    "elif age >= 13 and age < 20:\n",
    "    print('You are a teenager.')\n",
    "elif age >= 20 and age < 65:\n",
    "    print('You are an adult.')"
   ]
  },
  {
   "cell_type": "markdown",
   "id": "96b3da06",
   "metadata": {},
   "source": [
    "## Question 17\n",
    "\n",
    "**Favorite Fruit:** Make a list of your favorite fruits, and then write a series of independent `if` statements that check for certain fruits in your list.\n",
    "\n",
    "-   Make a list of your three favorite fruits and call it favorite_fruits.\n",
    "-   Write five if statements. Each should check whether a certain kind of fruit is in your list. If the fruit is in your list, the if block should print a statement, such as You really like bananas!"
   ]
  },
  {
   "cell_type": "code",
   "execution_count": 52,
   "id": "fc58635c",
   "metadata": {},
   "outputs": [
    {
     "name": "stdout",
     "output_type": "stream",
     "text": [
      "You really like apples!\n",
      "You really like oranges!\n",
      "You really like bananas!\n"
     ]
    }
   ],
   "source": [
    "fave_fruits = ['apples', 'oranges', 'bananas']\n",
    "if 'apples' in fave_fruits:\n",
    "    print('You really like apples!')\n",
    "if 'oranges' in fave_fruits:\n",
    "    print('You really like oranges!')\n",
    "if 'bananas' in fave_fruits:\n",
    "    print('You really like bananas!')\n",
    "if 'pears' in fave_fruits:\n",
    "    print('You really like pears!')\n",
    "if 'grapes' in fave_fruits:\n",
    "    print('You really like grapes!')"
   ]
  },
  {
   "cell_type": "markdown",
   "id": "71e4c6f1",
   "metadata": {},
   "source": [
    "## Question 18\n",
    "\n",
    "**Hello Admin:** Make a list of five or more usernames, including the name `admin`. Imagine you are writing code that will print a greeting to each user after they log in to a website. Loop through the list, and print a greeting to each user:\n",
    "\n",
    "-   If the username is 'admin', print a special greeting, such as _Hello admin, would you like to see a status report?_\n",
    "-   Otherwise, print a generic greeting, such as _Hello Jaden, thank you for logging in again_."
   ]
  },
  {
   "cell_type": "code",
   "execution_count": 53,
   "id": "651e8bf2",
   "metadata": {},
   "outputs": [
    {
     "name": "stdout",
     "output_type": "stream",
     "text": [
      "Hello admin, would you like to see a status report?\n",
      "Hello user1, thank you for logging in again.\n",
      "Hello user2, thank you for logging in again.\n",
      "Hello user3, thank you for logging in again.\n",
      "Hello user4, thank you for logging in again.\n"
     ]
    }
   ],
   "source": [
    "admin = ['admin', 'user1', 'user2', 'user3', 'user4']\n",
    "for user in admin:\n",
    "    if user == 'admin':\n",
    "        print('Hello admin, would you like to see a status report?')\n",
    "    else:\n",
    "        print(f'Hello {user}, thank you for logging in again.')"
   ]
  },
  {
   "cell_type": "markdown",
   "id": "fd53a583",
   "metadata": {},
   "source": [
    "## Question 19\n",
    "\n",
    "**Checking Usernames:** Do the following to create a program that simulates how websites ensure that everyone has a unique username.\n",
    "\n",
    "-   Make a list of five or more usernames called `current_users`.\n",
    "-   Make another list of five usernames called `new_users`. Make sure one or two of the new usernames are also in the `current_users` list.\n",
    "-   Loop through the `new_users` list to see if each new username has already been used. If it has, print a message that the person will need to enter a new username. If a username has not been used, print a message saying that the username is available.\n",
    "-   Make sure your comparison is case insensitive. If 'John' has been used, 'JOHN' should not be accepted. (To do this, you’ll need to make a copy of `current_users` containing the lowercase versions of all existing users.)"
   ]
  },
  {
   "cell_type": "code",
   "execution_count": 54,
   "id": "9f1a4a8d",
   "metadata": {},
   "outputs": [
    {
     "name": "stdout",
     "output_type": "stream",
     "text": [
      "user1 is taken. Please enter a new username.\n",
      "user2 is taken. Please enter a new username.\n",
      "user5 is available.\n",
      "user6 is available.\n",
      "user7 is available.\n"
     ]
    }
   ],
   "source": [
    "current_users = ['admin', 'user1', 'user2', 'user3', 'user4']\n",
    "new_users = ['user1', 'user2', 'user5', 'user6', 'user7']\n",
    "for user in new_users:\n",
    "    if user in current_users:\n",
    "        print(f'{user} is taken. Please enter a new username.')\n",
    "    else:\n",
    "        print(f'{user} is available.')\n",
    "        "
   ]
  },
  {
   "cell_type": "markdown",
   "id": "20f8412b",
   "metadata": {},
   "source": [
    "## Question 20\n",
    "\n",
    "**Ordinal Numbers:** Ordinal numbers indicate their position in a list, such as _1st_ or _2nd_. Most ordinal numbers end in _th_, except 1, 2, and 3.\n",
    "\n",
    "-   Store the numbers 1 through 9 in a list.\n",
    "-   Loop through the list.\n",
    "-   Use an `if-elif-else` chain inside the loop to print the proper ordinal ending for each number. Your output should read \"1st 2nd 3rd 4th 5th 6th 7th 8th 9th\", and each result should be on a separate line."
   ]
  },
  {
   "cell_type": "code",
   "execution_count": 55,
   "id": "6231e1e4",
   "metadata": {},
   "outputs": [
    {
     "name": "stdout",
     "output_type": "stream",
     "text": [
      "1st\n",
      "2nd\n",
      "3rd\n",
      "4th\n",
      "5th\n",
      "6th\n",
      "7th\n",
      "8th\n",
      "9th\n"
     ]
    }
   ],
   "source": [
    "nums = list(range(1,10))\n",
    "for num in nums:\n",
    "    if num == 1:\n",
    "        print(f'{num}st')\n",
    "    elif num == 2:\n",
    "        print(f'{num}nd')\n",
    "    elif num == 3:\n",
    "        print(f'{num}rd')\n",
    "    else:\n",
    "        print(f'{num}th')"
   ]
  },
  {
   "cell_type": "code",
   "execution_count": null,
   "id": "580f7e90",
   "metadata": {},
   "outputs": [],
   "source": []
  }
 ],
 "metadata": {
  "kernelspec": {
   "display_name": "Python 3 (ipykernel)",
   "language": "python",
   "name": "python3"
  },
  "language_info": {
   "codemirror_mode": {
    "name": "ipython",
    "version": 3
   },
   "file_extension": ".py",
   "mimetype": "text/x-python",
   "name": "python",
   "nbconvert_exporter": "python",
   "pygments_lexer": "ipython3",
   "version": "3.9.16"
  }
 },
 "nbformat": 4,
 "nbformat_minor": 5
}
