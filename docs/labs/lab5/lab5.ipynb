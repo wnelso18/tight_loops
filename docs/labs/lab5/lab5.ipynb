{
 "cells": [
  {
   "attachments": {},
   "cell_type": "markdown",
   "id": "4e70be69",
   "metadata": {},
   "source": [
    "# Lab 5\n",
    "\n",
    "[![image](https://colab.research.google.com/assets/colab-badge.svg)](https://colab.research.google.com/github/wnelso18/tight_loops/blob/main/docs/labs/lab4.ipynb)\n",
    "\n",
    "## Submission instructions\n",
    "\n",
    "1. Download the notebook from https://geosdemo.gishub.org/labs/lab5\n",
    "2. Complete the lab questions\n",
    "3. Restart Kernel and Run All Cells\n",
    "4. Upload the notebook to your GitHub repository\n",
    "5. Make sure the notebook has an `Open In Colab` badge. Click on the badge to make sure your notebook can be opened in Colab.\n",
    "6. Submit the link to the notebook on your GitHub repository to Canvas"
   ]
  },
  {
   "cell_type": "code",
   "execution_count": 33,
   "id": "8de60915",
   "metadata": {},
   "outputs": [
    {
     "name": "stdout",
     "output_type": "stream",
     "text": [
      "Submitted time: 2023-03-22 21:47:18.128182\n"
     ]
    }
   ],
   "source": [
    "from datetime import datetime\n",
    "\n",
    "now = datetime.now()\n",
    "print(f\"Submitted time: {now}\")"
   ]
  },
  {
   "cell_type": "markdown",
   "id": "a526d1ff",
   "metadata": {},
   "source": [
    "## Question 1\n",
    "\n",
    "**Person:** Use a dictionary to store information about a person you know. Store their first name, last name, age, and the city in which they live. You should have keys such as first_name, last_name, age, and city. Print each piece of information stored in your dictionary."
   ]
  },
  {
   "cell_type": "code",
   "execution_count": 34,
   "id": "060bd962",
   "metadata": {},
   "outputs": [
    {
     "name": "stdout",
     "output_type": "stream",
     "text": [
      "first_name --> willie\n",
      "last_name --> nelson\n",
      "age --> 21\n",
      "city --> gatlinburg\n"
     ]
    }
   ],
   "source": [
    "person = {'first_name': 'willie', 'last_name': 'nelson', 'age': '21', 'city':'gatlinburg'}\n",
    "\n",
    "for key, value in person.items():\n",
    "  print(f'{key} --> {value}')"
   ]
  },
  {
   "cell_type": "markdown",
   "id": "32bb120e",
   "metadata": {},
   "source": [
    "## Question 2\n",
    "\n",
    "**Favorite Numbers:** Use a dictionary to store people’s favorite numbers. Think of five names, and use them as keys in your dictionary. Think of a favorite number for each person, and store each as a value in your dictionary. Print each person’s name and their favorite number. For even more fun, poll a few friends and get some actual data for your program."
   ]
  },
  {
   "cell_type": "code",
   "execution_count": 35,
   "id": "37115a33",
   "metadata": {},
   "outputs": [
    {
     "name": "stdout",
     "output_type": "stream",
     "text": [
      "will --> 77\n",
      "jenna --> 8\n",
      "kevin --> 7\n",
      "robby --> 50\n",
      "parker --> 13\n"
     ]
    }
   ],
   "source": [
    "fav_numbers = {'will':'77','jenna':'8','kevin':'7','robby':'50','parker':'13'}\n",
    "for key, value in fav_numbers.items():\n",
    "  print(f'{key} --> {value}')"
   ]
  },
  {
   "cell_type": "markdown",
   "id": "eb31ca53",
   "metadata": {},
   "source": [
    "## Question 3\n",
    "\n",
    "**Glossary:** A Python dictionary can be used to model an actual dictionary. However, to avoid confusion, let’s call it a glossary.\n",
    "\n",
    "- Think of five programming words you’ve learned about in the previous chapters. Use these words as the keys in your glossary, and store their meanings as values.\n",
    "- Print each word and its meaning as neatly formatted output. You might print the word followed by a colon and then its meaning, or print the word on one line and then print its meaning indented on a second line. Use the newline character (\\n) to insert a blank line between each word-meaning pair in your output."
   ]
  },
  {
   "cell_type": "code",
   "execution_count": 36,
   "id": "7bdd7f86",
   "metadata": {},
   "outputs": [
    {
     "name": "stdout",
     "output_type": "stream",
     "text": [
      "sum: adds all values of choice\n",
      "\n",
      "print: displays select code when ran\n",
      "\n",
      "append: used to add item to a list\n",
      "\n",
      "pop: used to take item out of list\n",
      "\n",
      "title: used to upercase the first letter in every output\n"
     ]
    }
   ],
   "source": [
    "words = {'sum': 'adds all values of choice', 'print':'displays select code when ran', 'append':'used to add item to a list', 'pop':'used to take item out of list', 'title':'used to upercase the first letter in every output'}\n",
    "\n",
    "print(f\"sum: {words['sum']}\")\n",
    "print(f\"\\nprint: {words['print']}\")\n",
    "print(f\"\\nappend: {words['append']}\")\n",
    "print(f\"\\npop: {words['pop']}\")\n",
    "print(f\"\\ntitle: {words['title']}\")"
   ]
  },
  {
   "cell_type": "markdown",
   "id": "9bdb2d85",
   "metadata": {},
   "source": [
    "## Question 4\n",
    "\n",
    "**Glossary 2:** Now that you know how to loop through a dictionary, clean up the code from Question 3 by replacing your series of print() calls with a loop that runs through the dictionary’s keys and values. When you’re sure that your loop works, add five more Python terms to your glossary. When you run your program again, these new words and meanings should automatically be included in the output."
   ]
  },
  {
   "cell_type": "code",
   "execution_count": 37,
   "id": "018d37ff",
   "metadata": {},
   "outputs": [
    {
     "name": "stdout",
     "output_type": "stream",
     "text": [
      "\n",
      "sum:\n",
      "\tadds all values of choice\n",
      "\n",
      "print:\n",
      "\tdisplays select code when ran\n",
      "\n",
      "append:\n",
      "\tused to add item to a list\n",
      "\n",
      "pop:\n",
      "\tused to take item out of list\n",
      "\n",
      "title:\n",
      "\tused to upercase the first letter in every output\n"
     ]
    }
   ],
   "source": [
    "words = {'sum': 'adds all values of choice', 'print':'displays select code when ran', 'append':'used to add item to a list', 'pop':'used to take item out of list', 'title':'used to upercase the first letter in every output'}\n",
    "\n",
    "for key, value in words.items():\n",
    "    print(f\"\\n{key}:\")\n",
    "    print(f\"\\t{value}\")"
   ]
  },
  {
   "cell_type": "code",
   "execution_count": 38,
   "id": "387c3efe",
   "metadata": {},
   "outputs": [
    {
     "name": "stdout",
     "output_type": "stream",
     "text": [
      "\n",
      "sum:\n",
      "\tadds all values of choice\n",
      "\n",
      "print:\n",
      "\tdisplays select code when ran\n",
      "\n",
      "append:\n",
      "\tused to add item to a list\n",
      "\n",
      "pop:\n",
      "\tused to take item out of list\n",
      "\n",
      "title:\n",
      "\tused to upercase the first letter in every output\n",
      "\n",
      "upper:\n",
      "\twill uppercase selected code\n",
      "\n",
      "def:\n",
      "\tstarts the definition of a function\n",
      "\n",
      "del:\n",
      "\tdeletes selected code from previous lists\n",
      "\n",
      "input:\n",
      "\tallows user to type in information to be used or saved\n",
      "\n",
      "type:\n",
      "\tidentifies what a certain variable is\n"
     ]
    }
   ],
   "source": [
    "words_2 = {'sum': 'adds all values of choice', 'print':'displays select code when ran', 'append':'used to add item to a list', 'pop':'used to take item out of list', 'title':'used to upercase the first letter in every output', 'upper':'will uppercase selected code', 'def': 'starts the definition of a function', 'del':'deletes selected code from previous lists', 'input':'allows user to type in information to be used or saved', 'type':'identifies what a certain variable is'}\n",
    "\n",
    "for key, value in words_2.items():\n",
    "    print(f\"\\n{key}:\")\n",
    "    print(f\"\\t{value}\")"
   ]
  },
  {
   "cell_type": "markdown",
   "id": "375356d5",
   "metadata": {},
   "source": [
    "## Question 5\n",
    "\n",
    "**Rivers:** Make a dictionary containing three major rivers and the country each river runs through. One key-value pair might be 'nile': 'egypt'.\n",
    "\n",
    "- Use a loop to print a sentence about each river, such as _The Nile runs through Egypt._\n",
    "- Use a loop to print the name of each river included in the dictionary.\n",
    "- Use a loop to print the name of each country included in the dictionary."
   ]
  },
  {
   "cell_type": "code",
   "execution_count": 39,
   "id": "2fd7b758",
   "metadata": {},
   "outputs": [
    {
     "name": "stdout",
     "output_type": "stream",
     "text": [
      "\n",
      "The Mississippi River runs through Usa.\n",
      "\n",
      "The Amazon River runs through Brazil.\n",
      "\n",
      "The Tigris River runs through Turkey.\n"
     ]
    }
   ],
   "source": [
    "riv = {'mississippi river':'USA', 'amazon river':'brazil', 'tigris river':'turkey'}\n",
    "\n",
    "for key, value in riv.items():\n",
    "    print(f\"\\nThe {key.title()} runs through {value.title()}.\")"
   ]
  },
  {
   "cell_type": "markdown",
   "id": "8b0b500d",
   "metadata": {},
   "source": [
    "## Question 6\n",
    "\n",
    "**Cities:** Make a dictionary called `cities`. Use the names of three cities as keys in your dictionary. Create a dictionary of information about each city and include the country that the city is in, its approximate population, and one fact about that city. The keys for each city’s dictionary should be something like `country`, `population`, and `fact`. Print the name of each city and all of the information you have stored about it."
   ]
  },
  {
   "cell_type": "code",
   "execution_count": 40,
   "id": "28a77010",
   "metadata": {},
   "outputs": [
    {
     "name": "stdout",
     "output_type": "stream",
     "text": [
      "Nashville:\n",
      "\tCountry: USA\n",
      "\tPopulation: 678,448\n",
      "\tFact: largest city in Tennessee\n",
      "Knoxville:\n",
      "\tCountry: USA\n",
      "\tPopulation: 188,085\n",
      "\tFact: The University of Tennessee is located in Knoxville.\n",
      "New York City:\n",
      "\tCountry: USA\n",
      "\tPopulation: 8.4 million\n",
      "\tFact: the most populated city in the United States\n"
     ]
    }
   ],
   "source": [
    "cities = {\n",
    "    'nashville':{'country':'USA','population':'678,448','fact':'largest city in Tennessee'},\n",
    "    'knoxville':{'country':'USA','population':'188,085','fact':'The University of Tennessee is located in Knoxville.'},\n",
    "    'new york city':{'country':'USA','population':'8.4 million','fact':'the most populated city in the United States'}\n",
    "}\n",
    "\n",
    "for city, info in cities.items():\n",
    "    print(f'{city.title()}:')\n",
    "    print(f'\\tCountry: {info[\"country\"]}')\n",
    "    print(f'\\tPopulation: {info[\"population\"]}')\n",
    "    print(f'\\tFact: {info[\"fact\"]}')\n"
   ]
  },
  {
   "cell_type": "markdown",
   "id": "874541d3",
   "metadata": {},
   "source": [
    "## Question 7\n",
    "\n",
    "**Rental Car:** Write a program that asks the user what kind of rental car they would like. Print a message about that car, such as “Let me see if I can find you a Subaru.”"
   ]
  },
  {
   "cell_type": "code",
   "execution_count": 41,
   "id": "5283628b",
   "metadata": {},
   "outputs": [
    {
     "name": "stdout",
     "output_type": "stream",
     "text": [
      "\n",
      "Let me see if I can find you a(n) Ford.\n"
     ]
    }
   ],
   "source": [
    "car = input('What kind of rental car would you like?: ')\n",
    "print(f'\\nLet me see if I can find you a(n) {car}.')"
   ]
  },
  {
   "cell_type": "markdown",
   "id": "e03a200a",
   "metadata": {},
   "source": [
    "## Question 8\n",
    "\n",
    "**Restaurant Seating:** Write a program that asks the user how many people are in their dinner group. If the answer is more than eight, print a message saying they’ll have to wait for a table. Otherwise, report that their table is ready."
   ]
  },
  {
   "cell_type": "code",
   "execution_count": 42,
   "id": "96167a0f",
   "metadata": {},
   "outputs": [
    {
     "name": "stdout",
     "output_type": "stream",
     "text": [
      "You will have to wait 5 days for a table :(\n"
     ]
    }
   ],
   "source": [
    "seating = int(input(\"How many people are in your party? \\n \"))\n",
    "\n",
    "if seating < 8:\n",
    "  print('Your table is now ready!')\n",
    "else:\n",
    "  print(\"You will have to wait 5 days for a table :(\")\n"
   ]
  },
  {
   "cell_type": "markdown",
   "id": "a523d8a7",
   "metadata": {},
   "source": [
    "## Question 9\n",
    "\n",
    "**Multiples of Ten:** Ask the user for a number, and then report whether the number is a multiple of 10 or not."
   ]
  },
  {
   "cell_type": "code",
   "execution_count": 43,
   "id": "77c9702e",
   "metadata": {},
   "outputs": [
    {
     "name": "stdout",
     "output_type": "stream",
     "text": [
      "this number is not a multiple of 10\n"
     ]
    }
   ],
   "source": [
    "num = int(input('Enter a number, and I will tell you if it is a multiple of 10: '))\n",
    "\n",
    "\n",
    "if num % 10 == 0:\n",
    "    print('this number is a multiple of 10')\n",
    "else:\n",
    "    print('this number is not a multiple of 10')"
   ]
  },
  {
   "cell_type": "markdown",
   "id": "de550983",
   "metadata": {},
   "source": [
    "## Question 10\n",
    "\n",
    "**Pizza Toppings:** Write a loop that prompts the user to enter a series of pizza toppings until they enter a 'quit' value. As they enter each topping, print a message saying you’ll add that topping to their pizza."
   ]
  },
  {
   "cell_type": "code",
   "execution_count": 44,
   "id": "11f4d8e4",
   "metadata": {},
   "outputs": [
    {
     "name": "stdout",
     "output_type": "stream",
     "text": [
      "\n",
      "we are adding: pepp\n",
      "\n",
      "we are adding: cheese\n",
      "\n",
      "we are adding: mushrooms\n"
     ]
    }
   ],
   "source": [
    "pizzatop = '\\nLet me know what pizza toppings you would like to have: '\n",
    "pizzatop += 'When you are done, type \"quit\" to end the program.'\n",
    "\n",
    "message = ''\n",
    "while message != 'quit':\n",
    "    message = input(pizzatop)\n",
    "    \n",
    "    if message != 'quit':\n",
    "        print(f'\\nwe are adding: {message}')\n",
    "        "
   ]
  },
  {
   "cell_type": "markdown",
   "id": "ccfe4831",
   "metadata": {},
   "source": [
    "## Question 11\n",
    "\n",
    "**Message:** Write a function called `display_message()` that prints one sentence telling everyone what you are learning about in this chapter. Call the function, and make sure the message displays correctly."
   ]
  },
  {
   "cell_type": "code",
   "execution_count": 45,
   "id": "7080b52a",
   "metadata": {},
   "outputs": [
    {
     "name": "stdout",
     "output_type": "stream",
     "text": [
      "I am learning about Python.\n"
     ]
    }
   ],
   "source": [
    "def display_message():\n",
    "  print('I am learning about Python.')\n",
    "\n",
    "display_message()\n"
   ]
  },
  {
   "cell_type": "markdown",
   "id": "2b5e23db",
   "metadata": {},
   "source": [
    "## Question 12\n",
    "\n",
    "**Favorite Book:** Write a function called `favorite_book()` that accepts one parameter, title. The function should print a message, such as `One of my favorite books is Alice in Wonderland`. Call the function, making sure to include a book title as an argument in the function call."
   ]
  },
  {
   "cell_type": "code",
   "execution_count": 46,
   "id": "b33bd108",
   "metadata": {},
   "outputs": [
    {
     "name": "stdout",
     "output_type": "stream",
     "text": [
      "One of my favorite books is Prisoner B-3087.\n"
     ]
    }
   ],
   "source": [
    "def favorite_book(book):\n",
    "    \"\"\"Displays my favorite book.\"\"\"\n",
    "    print(f'One of my favorite books is {book.title()}.')\n",
    "          \n",
    "favorite_book('prisoner B-3087')\n",
    "\n"
   ]
  },
  {
   "cell_type": "markdown",
   "id": "4904419f",
   "metadata": {},
   "source": [
    "## Question 13\n",
    "\n",
    "**T-Shirt:** Write a function called `make_shirt()` that accepts a size and the text of a message that should be printed on the shirt. The function should print a sentence summarizing the size of the shirt and the message printed on it.\n",
    "\n",
    "Call the function once using positional arguments to make a shirt. Call the function a second time using keyword arguments."
   ]
  },
  {
   "cell_type": "code",
   "execution_count": 47,
   "id": "53d690ca",
   "metadata": {},
   "outputs": [
    {
     "name": "stdout",
     "output_type": "stream",
     "text": [
      "\n",
      "The shirt size must be small, and it should say GO VOLS!.\n",
      "\n",
      "The shirt size must be small, and it should say GO VOLS!.\n"
     ]
    }
   ],
   "source": [
    "def make_shirt(shirt_size, shirt_message):\n",
    "    \"\"\"Displays shirt information\"\"\"\n",
    "    print(f'\\nThe shirt size must be {shirt_size}, and it should say {shirt_message}.')\n",
    "    \n",
    "make_shirt('small', 'GO VOLS!')\n",
    "make_shirt(shirt_size='small', shirt_message='GO VOLS!')"
   ]
  },
  {
   "cell_type": "markdown",
   "id": "c6a6dc4b",
   "metadata": {},
   "source": [
    "## Question 14\n",
    "\n",
    "**Large Shirts:** Modify the `make_shirt()` function so that shirts are large by default with a message that reads _I love Python_. Make a large shirt and a medium shirt with the default message, and a shirt of any size with a different message."
   ]
  },
  {
   "cell_type": "code",
   "execution_count": 48,
   "id": "658f7e3f",
   "metadata": {},
   "outputs": [
    {
     "name": "stdout",
     "output_type": "stream",
     "text": [
      "The shirt size is medium, and it should say I love Python.\n"
     ]
    }
   ],
   "source": [
    "def make_shirt(size, message='I love Python'):\n",
    "    \"\"\"Displays shirt information\"\"\"\n",
    "    print(f\"The shirt size is {size}, and it should say {message}.\")\n",
    "    \n",
    "make_shirt('medium')"
   ]
  },
  {
   "cell_type": "markdown",
   "id": "64fd6e85",
   "metadata": {},
   "source": [
    "## Question 15\n",
    "\n",
    "**Cities:** Write a function called `describe_city()` that accepts the name of a city and its country. The function should print a simple sentence, such as `Reykjavik is in Iceland`. Give the parameter for the country a default value. Call your function for three different cities, at least one of which is not in the default country."
   ]
  },
  {
   "cell_type": "code",
   "execution_count": 49,
   "id": "bc493373",
   "metadata": {},
   "outputs": [
    {
     "name": "stdout",
     "output_type": "stream",
     "text": [
      "\n",
      "Los Angeles is in USA.\n",
      "\n",
      "Nashville is in USA.\n",
      "\n",
      "Mexico City is in Mexico.\n"
     ]
    }
   ],
   "source": [
    "def describe_city(city, country='USA'):\n",
    "    \"\"\"Displays city within a country.\"\"\"\n",
    "    print(f'\\n{city} is in {country}.')\n",
    "    \n",
    "describe_city('Los Angeles')\n",
    "describe_city('Nashville')\n",
    "describe_city('Mexico City', 'Mexico')"
   ]
  },
  {
   "cell_type": "markdown",
   "id": "259cdcdc",
   "metadata": {},
   "source": [
    "## Question 16\n",
    "\n",
    "**City Names:** Write a function called `city_country()` that takes in the name of a city and its country. The function should return a string formatted like this:\n",
    "\n",
    "```text\n",
    "Santiago, Chile\n",
    "```\n",
    "\n",
    "Call your function with at least three city-country pairs, and print the values that are returned."
   ]
  },
  {
   "cell_type": "code",
   "execution_count": 50,
   "id": "f1b5b16e",
   "metadata": {},
   "outputs": [
    {
     "name": "stdout",
     "output_type": "stream",
     "text": [
      "San Francisco, USA\n",
      "Atlanta, USA\n",
      "Bejing, China\n"
     ]
    }
   ],
   "source": [
    "def city_country(city, country):\n",
    "    \"\"\"Displays city and country\"\"\"\n",
    "    print(f'{city}, {country}')\n",
    "    \n",
    "city_country('San Francisco', 'USA')\n",
    "city_country('Atlanta', 'USA')\n",
    "city_country('Bejing', 'China')"
   ]
  },
  {
   "cell_type": "markdown",
   "id": "491f64a4",
   "metadata": {},
   "source": [
    "## Question 17\n",
    "\n",
    "**Album:** Write a function called `make_album()` that builds a dictionary describing a music album. The function should take in an artist name and an album title, and it should return a dictionary containing these two pieces of information. Use the function to make three dictionaries representing different albums. Print each return value to show that the dictionaries are storing the album information correctly.\n",
    "\n",
    "Use None to add an optional parameter to make_album() that allows you to store the number of songs on an album. If the calling line includes a value for the number of songs, add that value to the album’s dictionary. Make at least one new function call that includes the number of songs on an album."
   ]
  },
  {
   "cell_type": "code",
   "execution_count": 51,
   "id": "550b2be6",
   "metadata": {},
   "outputs": [
    {
     "name": "stdout",
     "output_type": "stream",
     "text": [
      "{'artist': 'Radiohead', 'album title': 'Pablo Honey'}\n",
      "{'artist': 'The Beatles', 'album title': 'Rubber Soul'}\n",
      "{'artist': 'Gordon Lightfoot', 'album title': 'Sundown'}\n"
     ]
    }
   ],
   "source": [
    "def make_album(artist, album_title):\n",
    "    \"\"\"Return a dictionary for an album dictionary\"\"\"\n",
    "    music_album = {'artist': artist, 'album title': album_title}\n",
    "    return music_album\n",
    "\n",
    "album_dict = make_album('Radiohead', 'Pablo Honey')\n",
    "print(album_dict)\n",
    "album_dict = make_album('The Beatles', 'Rubber Soul')\n",
    "print(album_dict)\n",
    "album_dict = make_album('Gordon Lightfoot', 'Sundown')\n",
    "print(album_dict)"
   ]
  },
  {
   "cell_type": "code",
   "execution_count": 52,
   "id": "4ec0c5e0",
   "metadata": {},
   "outputs": [
    {
     "name": "stdout",
     "output_type": "stream",
     "text": [
      "{'artist': 'Radiohead', 'album title': 'Pablo Honey', 'music': '0'}\n",
      "{'artist': 'The Beatles', 'album title': 'Rubber Soul', 'music': '0'}\n",
      "{'artist': 'Gordon Lightfoot', 'album title': 'Sundown', 'music': '0'}\n",
      "{'artist': 'John Denver', 'album title': 'Rocky Mountain High', 'music': '12'}\n"
     ]
    }
   ],
   "source": [
    "def make_album(artist, album_title, music = '0'):\n",
    "    \"\"\"Return a dictionary for an album dictionary\"\"\"\n",
    "    music_album = {'artist': artist, 'album title': album_title}\n",
    "    \n",
    "    if music:\n",
    "        music_album['music'] = music\n",
    "    return music_album\n",
    "\n",
    "album_dict = make_album('Radiohead', 'Pablo Honey')\n",
    "print(album_dict)\n",
    "album_dict = make_album('The Beatles', 'Rubber Soul')\n",
    "print(album_dict)\n",
    "album_dict = make_album('Gordon Lightfoot', 'Sundown')\n",
    "print(album_dict)\n",
    "album_dict = make_album('John Denver', 'Rocky Mountain High', music = '12')\n",
    "print(album_dict)"
   ]
  },
  {
   "cell_type": "markdown",
   "id": "42f6a72f",
   "metadata": {},
   "source": [
    "## Question 18\n",
    "\n",
    "**User Albums:** Start with your program from Question 17. Write a `while` loop that allows users to enter an album’s artist and title. Once you have that information, call `make_album()` with the user’s input and print the dictionary that’s created. Be sure to include a quit value in the `while` loop."
   ]
  },
  {
   "cell_type": "code",
   "execution_count": 53,
   "id": "2ba9b4ba",
   "metadata": {},
   "outputs": [
    {
     "name": "stdout",
     "output_type": "stream",
     "text": [
      "Give the name of the artist and the title the album\n",
      "Type \"quit\" when finished\n",
      "{'artist': 'john', 'album title': 'apple'}\n",
      "Give the name of the artist and the title the album\n",
      "Type \"quit\" when finished\n",
      "{'artist': 'john', 'album title': 'hellos'}\n",
      "Give the name of the artist and the title the album\n",
      "Type \"quit\" when finished\n",
      "{'artist': 'tupac', 'album title': 'grass'}\n",
      "Give the name of the artist and the title the album\n",
      "Type \"quit\" when finished\n",
      "{'artist': 'Hellos', 'album title': 'white'}\n",
      "Give the name of the artist and the title the album\n",
      "Type \"quit\" when finished\n"
     ]
    }
   ],
   "source": [
    "def user_makes_album(artist, album_title):\n",
    "    \"\"\"Return a dictionary for an album dictionary\"\"\"\n",
    "    music_album = {'artist': artist, 'album title': album_title}\n",
    "    return music_album\n",
    "\n",
    "while True:\n",
    "    print('Give the name of the artist and the title the album')\n",
    "    print('Type \"quit\" when finished')\n",
    "    \n",
    "    artist = input(\"Artist Name: \")\n",
    "    if artist == 'quit':\n",
    "        break\n",
    "    album = input(\"Name of Album: \")\n",
    "    if album == 'quit':\n",
    "        break\n",
    "        \n",
    "    created_album = user_makes_album(artist, album)\n",
    "    print(f'{created_album}')"
   ]
  },
  {
   "cell_type": "markdown",
   "id": "97bab8c2",
   "metadata": {},
   "source": [
    "## Question 19\n",
    "\n",
    "**Messages:** Make a list containing a series of short text messages. Pass the list to a function called `show_messages()`, which prints each text message."
   ]
  },
  {
   "cell_type": "code",
   "execution_count": 54,
   "id": "f8f3ee4e",
   "metadata": {},
   "outputs": [
    {
     "name": "stdout",
     "output_type": "stream",
     "text": [
      "hello!\n",
      "good morning\n",
      "have a great day!\n"
     ]
    }
   ],
   "source": [
    "def show_messages(my_texts):\n",
    "    \"\"\"Displays text message\"\"\"\n",
    "    for text in my_texts:\n",
    "        txt = f'{text}'\n",
    "        print(txt)\n",
    "\n",
    "the_texts = ['hello!', 'good morning', 'have a great day!']\n",
    "show_messages(the_texts)"
   ]
  },
  {
   "cell_type": "markdown",
   "id": "a8bcea3c",
   "metadata": {},
   "source": [
    "## Question 20\n",
    "\n",
    "**Sending Messages:** Start with a copy of your program from Question 19. Write a function called `send_messages()` that prints each text message and moves each message to a new list called `sent_messages` as it’s printed. After calling the function, print both of your lists to make sure the messages were moved correctly."
   ]
  },
  {
   "cell_type": "code",
   "execution_count": 55,
   "id": "c5340719",
   "metadata": {},
   "outputs": [
    {
     "name": "stdout",
     "output_type": "stream",
     "text": [
      "delivering... \"hello\"\n",
      "[]\n",
      "['hello']\n"
     ]
    }
   ],
   "source": [
    "def send_messages(unsent, sent_messages):\n",
    "    \"\"\"Moves unsent messages to sent messages\"\"\"\n",
    "    while unsent:\n",
    "        sending = unsent.pop()\n",
    "        print(f'delivering... \"{sending}\"')\n",
    "        sent_messages.append(sending)\n",
    "\n",
    "unsent = [input()]\n",
    "sent_messages = []\n",
    "send_messages(unsent, sent_messages)\n",
    "print(unsent)\n",
    "print(sent_messages)"
   ]
  },
  {
   "cell_type": "markdown",
   "id": "c98f1dd0",
   "metadata": {},
   "source": [
    "## Question 21\n",
    "\n",
    "**Learning Python:** Open a blank file in your text editor and write a few lines summarizing what you’ve learned about Python so far. Start each line with the phrase _In Python you can. . .._ Save the file as _learning_python.txt_ in the same directory as your exercises from this chapter. Write a program that reads the file and prints what you wrote three times. Print the contents once by reading in the entire file, once by looping over the file object, and once by storing the lines in a list and then working with them outside the _with_ block."
   ]
  },
  {
   "cell_type": "code",
   "execution_count": 56,
   "id": "cb5da040",
   "metadata": {},
   "outputs": [
    {
     "name": "stdout",
     "output_type": "stream",
     "text": [
      "In Python you can print things\n",
      "In Python you can use the input function\n",
      "\n"
     ]
    }
   ],
   "source": [
    "with open('texts/learning_python.txt') as file_object:\n",
    "    contents = file_object.read()\n",
    "print(contents)"
   ]
  },
  {
   "cell_type": "code",
   "execution_count": 57,
   "id": "59b87bc4",
   "metadata": {},
   "outputs": [
    {
     "name": "stdout",
     "output_type": "stream",
     "text": [
      "In Python you can print things\n",
      "\n",
      "In Python you can use the input function\n",
      "\n"
     ]
    }
   ],
   "source": [
    "filename = 'texts/learning_python.txt'\n",
    "\n",
    "with open(filename) as file_object:\n",
    "    for line in file_object:\n",
    "        print(line)"
   ]
  },
  {
   "cell_type": "code",
   "execution_count": 58,
   "id": "5a395de8",
   "metadata": {},
   "outputs": [
    {
     "name": "stdout",
     "output_type": "stream",
     "text": [
      "['In Python you can print things\\n', 'In Python you can use the input function\\n']\n"
     ]
    }
   ],
   "source": [
    "facts = []\n",
    "with open(filename) as file_object:\n",
    "    for line in file_object:\n",
    "        facts.append(line)\n",
    "print(facts)"
   ]
  },
  {
   "cell_type": "markdown",
   "id": "4a1a04ad",
   "metadata": {},
   "source": [
    "## Question 22\n",
    "\n",
    "**Learning C:** You can use the replace() method to replace any word in a string with a different word. Here’s a quick example showing how to replace 'dog' with 'cat' in a sentence:\n",
    "\n",
    "```text\n",
    "message = \"I really like dogs.\"\n",
    "message.replace('dog', 'cat')\n",
    "'I really like cats.'\n",
    "```\n",
    "\n",
    "Read in each line from the file you just created, _learning_python.txt_, and replace the word _Python_ with the name of another language, such as _C_. Print each modified line to the screen."
   ]
  },
  {
   "cell_type": "code",
   "execution_count": 59,
   "id": "b11b8018",
   "metadata": {},
   "outputs": [
    {
     "name": "stdout",
     "output_type": "stream",
     "text": [
      "In C you can print things\n",
      "In C you can use the input function\n"
     ]
    }
   ],
   "source": [
    "with open(filename) as file_object:\n",
    "    lines = file_object.readlines()\n",
    "for line in lines:\n",
    "    line = line.rstrip()\n",
    "    print(line.replace('Python', 'C'))"
   ]
  },
  {
   "cell_type": "markdown",
   "id": "0921244a",
   "metadata": {},
   "source": [
    "## Question 23\n",
    "\n",
    "**Guest:** Write a program that prompts the user for their name. When they respond, write their name to a file called guest.txt."
   ]
  },
  {
   "cell_type": "code",
   "execution_count": 60,
   "id": "340d8f4b",
   "metadata": {},
   "outputs": [],
   "source": [
    "filename = 'texts/guest.txt'\n",
    "\n",
    "with open(filename, 'w') as file_object:\n",
    "    file_object.write(input('what is your name? '))"
   ]
  },
  {
   "cell_type": "markdown",
   "id": "24b72b21",
   "metadata": {},
   "source": [
    "## Question 24\n",
    "\n",
    "**Guest Book:** Write a while loop that prompts users for their name. When they enter their name, print a greeting to the screen and add a line recording their visit in a file called guest_book.txt. Make sure each entry appears on a new line in the file."
   ]
  },
  {
   "cell_type": "code",
   "execution_count": 61,
   "id": "2326c653",
   "metadata": {},
   "outputs": [
    {
     "name": "stdout",
     "output_type": "stream",
     "text": [
      "tell us your name and then enter \"quit\" when done\n",
      "thank you, jack, for coming\n"
     ]
    }
   ],
   "source": [
    "print('tell us your name and then enter \"quit\" when done')\n",
    "while True:\n",
    "    name = input('\\ntell us your name: ')\n",
    "    if name == 'quit':\n",
    "        break\n",
    "    else:\n",
    "        with open (filename, 'a') as file_object:\n",
    "            file_object.write(f'\\n{name}')\n",
    "        print(f'thank you, {name}, for coming')"
   ]
  },
  {
   "cell_type": "markdown",
   "id": "f3075d32",
   "metadata": {},
   "source": [
    "## Question 25\n",
    "\n",
    "**Programming Poll:** Write a while loop that asks people why they like programming. Each time someone enters a reason, add their reason to a file that stores all the responses."
   ]
  },
  {
   "cell_type": "code",
   "execution_count": 62,
   "id": "042dfb04",
   "metadata": {},
   "outputs": [],
   "source": [
    "filename = 'texts/poll.txt'\n",
    "\n",
    "reasons = []\n",
    "while True:\n",
    "    reason = input('\\nWhy do you like programming?')\n",
    "    reasons.append(reason)\n",
    "    \n",
    "    end_poll = input('When you are finished giving reasons, type \"done\", otherwise hit enter.')\n",
    "    if end_poll == 'done':\n",
    "        break\n",
    "with open (filename, 'a') as file_object:\n",
    "    for reason in reasons:\n",
    "        file_object.write(f'\\n{reason}')"
   ]
  },
  {
   "cell_type": "markdown",
   "id": "ed07a1ca",
   "metadata": {},
   "source": [
    "## Question 26\n",
    "\n",
    "**Addition:** One common problem when prompting for numerical input occurs when people provide text instead of numbers. When you try to convert the input to an int, you’ll get a ValueError. Write a program that prompts for two numbers. Add them together and print the result. Catch the ValueError if either input value is not a number, and print a friendly error message. Test your program by entering two numbers and then by entering some text instead of a number."
   ]
  },
  {
   "cell_type": "code",
   "execution_count": 63,
   "id": "eaf686f8",
   "metadata": {},
   "outputs": [
    {
     "name": "stdout",
     "output_type": "stream",
     "text": [
      "The sum of your inputs is 357.\n"
     ]
    }
   ],
   "source": [
    "try:\n",
    "    x=input(\"Give me a number: \")\n",
    "    x=int(x)\n",
    "    \n",
    "    y=input(\"Give me another number: \")\n",
    "    y=int(y)\n",
    "except ValueError:\n",
    "    print(\"numbers only please\")\n",
    "else:\n",
    "    sum = x+y\n",
    "    print(f\"The sum of your inputs is {str(sum)}.\")"
   ]
  },
  {
   "cell_type": "code",
   "execution_count": 64,
   "id": "5604f50d",
   "metadata": {},
   "outputs": [
    {
     "name": "stdout",
     "output_type": "stream",
     "text": [
      "numbers only please\n"
     ]
    }
   ],
   "source": [
    "try:\n",
    "    x=input(\"Give me a number: \")\n",
    "    x=int(x)\n",
    "    \n",
    "    y=input(\"Give me another number: \")\n",
    "    y=int(y)\n",
    "except ValueError:\n",
    "    print(\"numbers only please\")\n",
    "else:\n",
    "    sum = x+y\n",
    "    print(f\"The sum of your inputs is {str(sum)}.\")"
   ]
  },
  {
   "cell_type": "markdown",
   "id": "09db5341",
   "metadata": {},
   "source": [
    "## Question 27\n",
    "\n",
    "**Addition Calculator:** Wrap your code from Question 26 in a while loop so the user can continue entering numbers even if they make a mistake and enter text instead of a number."
   ]
  },
  {
   "cell_type": "code",
   "execution_count": 65,
   "id": "916c769d",
   "metadata": {},
   "outputs": [
    {
     "name": "stdout",
     "output_type": "stream",
     "text": [
      "when finished type \"done\"\n",
      "the sum of your inputs is 111.\n",
      "numbers only please\n",
      "the sum of your inputs is 666.\n"
     ]
    }
   ],
   "source": [
    "print('when finished type \"done\"')\n",
    "\n",
    "while True:\n",
    "    try:\n",
    "        x = input('\\ngive first number')\n",
    "        if x == 'done':\n",
    "                  break\n",
    "        x = int(x)\n",
    "        \n",
    "        y = input('give second number')\n",
    "        if y == 'done':\n",
    "            break\n",
    "        y = int(y)\n",
    "        \n",
    "    except ValueError:\n",
    "        print('numbers only please')\n",
    "    \n",
    "    else:\n",
    "        sum = x+y\n",
    "        print(f'the sum of your inputs is {str(sum)}.')"
   ]
  },
  {
   "cell_type": "markdown",
   "id": "288099a9",
   "metadata": {},
   "source": [
    "## Question 28\n",
    "\n",
    "**Cats and Dogs:** Make two files, _cats.txt_ and _dogs.txt_. Store at least three names of cats in the first file and three names of dogs in the second file. Write a program that tries to read these files and print the contents of the file to the screen. Wrap your code in a `try-except` block to catch the `FileNotFound` error, and print a friendly message if a file is missing. Move one of the files to a different location on your system, and make sure the code in the `except` block executes properly."
   ]
  },
  {
   "cell_type": "code",
   "execution_count": 66,
   "id": "387672f6",
   "metadata": {},
   "outputs": [
    {
     "name": "stdout",
     "output_type": "stream",
     "text": [
      "\n",
      "texts/cats.txt contains: \n",
      "Zoe\n",
      "Zippy\n",
      "Zoopy\n",
      "\n",
      "texts/dogs.txt contains: \n",
      "Charger\n",
      "Ruff\n",
      "Todd\n",
      "\n",
      "cats.txt contains: \n",
      "This file does not exist\n"
     ]
    }
   ],
   "source": [
    "filenames = ['texts/cats.txt', 'texts/dogs.txt', 'cats.txt']\n",
    "\n",
    "for filename in filenames:\n",
    "    print(f'\\n{filename} contains: ')\n",
    "    try:\n",
    "        with open(filename) as f:\n",
    "            contents = f.read()\n",
    "            print(contents)\n",
    "    except FileNotFoundError:\n",
    "        print(\"This file does not exist\")"
   ]
  },
  {
   "cell_type": "markdown",
   "id": "e9d28546",
   "metadata": {},
   "source": [
    "## Question 29\n",
    "\n",
    "**Silent Cats and Dogs:** Modify your except block in Question 28 to fail silently if either file is missing."
   ]
  },
  {
   "cell_type": "code",
   "execution_count": 67,
   "id": "2b972722",
   "metadata": {},
   "outputs": [
    {
     "name": "stdout",
     "output_type": "stream",
     "text": [
      "\n",
      "texts/cats.txt contains: \n",
      "Zoe\n",
      "Zippy\n",
      "Zoopy\n",
      "\n",
      "texts/dogs.txt contains: \n",
      "Charger\n",
      "Ruff\n",
      "Todd\n",
      "\n",
      "cats.txt contains: \n"
     ]
    }
   ],
   "source": [
    "filenames = ['texts/cats.txt', 'texts/dogs.txt', 'cats.txt']\n",
    "for filename in filenames:\n",
    "    print(f'\\n{filename} contains: ')\n",
    "    try:\n",
    "        with open(filename) as f:\n",
    "            contents = f.read()\n",
    "            print(contents)\n",
    "    except:\n",
    "        pass"
   ]
  },
  {
   "cell_type": "markdown",
   "id": "241ffab1",
   "metadata": {},
   "source": [
    "## Question 30\n",
    "\n",
    "**Common Words:** Visit Project Gutenberg (<https://gutenberg.org/>) and find a few texts you’d like to analyze. Download the text files for these works, or copy the raw text from your browser into a text file on your computer. You can use the `count()` method to find out how many times a word or phrase appears in a string. For example, the following code counts the number of times 'row' appears in a string:"
   ]
  },
  {
   "cell_type": "code",
   "execution_count": 68,
   "id": "2a017ac9",
   "metadata": {},
   "outputs": [
    {
     "data": {
      "text/plain": [
       "2"
      ]
     },
     "execution_count": 68,
     "metadata": {},
     "output_type": "execute_result"
    }
   ],
   "source": [
    "line = \"Row, row, row your boat\"\n",
    "line.count('row')"
   ]
  },
  {
   "cell_type": "code",
   "execution_count": 69,
   "id": "41707165",
   "metadata": {},
   "outputs": [
    {
     "data": {
      "text/plain": [
       "3"
      ]
     },
     "execution_count": 69,
     "metadata": {},
     "output_type": "execute_result"
    }
   ],
   "source": [
    "line.lower().count('row')"
   ]
  },
  {
   "cell_type": "code",
   "execution_count": 70,
   "id": "62eaaf69",
   "metadata": {},
   "outputs": [
    {
     "name": "stdout",
     "output_type": "stream",
     "text": [
      "'the' appears in texts/odds_ends.txt about 4736 times.\n",
      "'the' appears in texts/adventure.txt about 482 times.\n"
     ]
    }
   ],
   "source": [
    "def count_common_words(filename, word):\n",
    "    \"\"\"Count how many times word appears in the text.\"\"\"\n",
    "    # Note: This is a really simple approximation, and the number returned\n",
    "    #   will be higher than the actual count.\n",
    "    try:\n",
    "        with open(filename, encoding='utf-8') as f:\n",
    "            contents = f.read()\n",
    "    except FileNotFoundError:\n",
    "        pass\n",
    "    else:\n",
    "        word_count = contents.count(word)\n",
    "\n",
    "        msg = f\"'{word}' appears in {filename} about {word_count} times.\"\n",
    "        print(msg)\n",
    "\n",
    "filename = 'texts/odds_ends.txt'\n",
    "count_common_words(filename, 'the')\n",
    "\n",
    "filename = 'texts/adventure.txt'\n",
    "count_common_words(filename, 'the')"
   ]
  },
  {
   "cell_type": "code",
   "execution_count": null,
   "id": "5dae7b29",
   "metadata": {},
   "outputs": [],
   "source": []
  },
  {
   "cell_type": "markdown",
   "id": "5652cc4d",
   "metadata": {},
   "source": [
    "Notice that converting the string to lowercase using lower() catches all appearances of the word you’re looking for, regardless of how it’s formatted.\n",
    "\n",
    "Write a program that reads the files you found at Project Gutenberg and determines how many times the word `the` appears in each text. This will be an approximation because it will also count words such as `then` and `there`. Try counting `the`, with a space in the string, and see how much lower your count is."
   ]
  },
  {
   "cell_type": "code",
   "execution_count": 71,
   "id": "55ab2af3",
   "metadata": {},
   "outputs": [
    {
     "name": "stdout",
     "output_type": "stream",
     "text": [
      "'the ' appears in texts/odds_ends.txt about 3354 times.\n",
      "'the ' appears in texts/adventure.txt about 358 times.\n"
     ]
    }
   ],
   "source": [
    "def count_common_words(filename, word):\n",
    "    \"\"\"Count how many times word appears in the text.\"\"\"\n",
    "    # Note: This is a really simple approximation, and the number returned\n",
    "    #   will be higher than the actual count.\n",
    "    try:\n",
    "        with open(filename, encoding='utf-8') as f:\n",
    "            contents = f.read()\n",
    "    except FileNotFoundError:\n",
    "        pass\n",
    "    else:\n",
    "        word_count = contents.lower().count(word)\n",
    "\n",
    "        msg = f\"'{word}' appears in {filename} about {word_count} times.\"\n",
    "        print(msg)\n",
    "\n",
    "filename = 'texts/odds_ends.txt'\n",
    "count_common_words(filename, 'the ')\n",
    "\n",
    "filename = 'texts/adventure.txt'\n",
    "count_common_words(filename, 'the ')"
   ]
  },
  {
   "cell_type": "code",
   "execution_count": null,
   "id": "59225121",
   "metadata": {},
   "outputs": [],
   "source": []
  }
 ],
 "metadata": {
  "kernelspec": {
   "display_name": "Python 3",
   "language": "python",
   "name": "python3"
  },
  "language_info": {
   "codemirror_mode": {
    "name": "ipython",
    "version": 3
   },
   "file_extension": ".py",
   "mimetype": "text/x-python",
   "name": "python",
   "nbconvert_exporter": "python",
   "pygments_lexer": "ipython3",
   "version": "3.9.16"
  }
 },
 "nbformat": 4,
 "nbformat_minor": 5
}
