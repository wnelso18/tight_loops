{
 "cells": [
  {
   "cell_type": "markdown",
   "id": "a4793a6f-ce4d-4201-b121-0f3ca84feb69",
   "metadata": {},
   "source": [
    "## Leafmap Code"
   ]
  },
  {
   "attachments": {},
   "cell_type": "markdown",
   "id": "2a9af919-7099-4c19-9931-52b4529851ef",
   "metadata": {},
   "source": [
    "[![image](https://colab.research.google.com/assets/colab-badge.svg)](https://colab.research.google.com/drive/1Jdc0JESO2UM1qTzWCFE9yPCxfyJMtAKb?usp=sharing)"
   ]
  },
  {
   "cell_type": "code",
   "execution_count": 3,
   "id": "186f8649-5e83-45e6-b568-0e530d14fe27",
   "metadata": {},
   "outputs": [],
   "source": [
    "import ee\n",
    "import leafmap"
   ]
  },
  {
   "cell_type": "code",
   "execution_count": 4,
   "id": "d8c20a62-2c51-4aa2-92c6-455af8d40434",
   "metadata": {},
   "outputs": [
    {
     "data": {
      "application/vnd.jupyter.widget-view+json": {
       "model_id": "397e35194e2c421f9f89671be2f4a1a5",
       "version_major": 2,
       "version_minor": 0
      },
      "text/plain": [
       "Map(center=[20, 0], controls=(ZoomControl(options=['position', 'zoom_in_text', 'zoom_in_title', 'zoom_out_text…"
      ]
     },
     "metadata": {},
     "output_type": "display_data"
    }
   ],
   "source": [
    "Map = leafmap.Map()\n",
    "Map"
   ]
  },
  {
   "cell_type": "code",
   "execution_count": null,
   "id": "ad352c75-d7de-40b1-a043-80bce80d16d4",
   "metadata": {},
   "outputs": [],
   "source": []
  }
 ],
 "metadata": {
  "kernelspec": {
   "display_name": "Python 3 (ipykernel)",
   "language": "python",
   "name": "python3"
  },
  "language_info": {
   "codemirror_mode": {
    "name": "ipython",
    "version": 3
   },
   "file_extension": ".py",
   "mimetype": "text/x-python",
   "name": "python",
   "nbconvert_exporter": "python",
   "pygments_lexer": "ipython3",
   "version": "3.8.12"
  }
 },
 "nbformat": 4,
 "nbformat_minor": 5
}
